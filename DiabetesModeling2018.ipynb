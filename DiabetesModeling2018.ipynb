{
 "cells": [
  {
   "cell_type": "code",
   "execution_count": null,
   "metadata": {},
   "outputs": [],
   "source": [
    "import pandas\n",
    "\n",
    "df = pandas.read_csv('./data/model_lantus_3.5.csv')\n",
    "df.tail(10)"
   ]
  },
  {
   "cell_type": "code",
   "execution_count": null,
   "metadata": {},
   "outputs": [],
   "source": [
    "from pymc3 import *\n",
    "import theano.tensor as T\n",
    "import matplotlib.pyplot as plt\n",
    "%matplotlib inline\n",
    "\n",
    "glucose_diff = df['glucose_diff']\n",
    "basal_given = df['lantus']\n",
    "mealcarbs = df['mealcarbs_last_meal']\n",
    "humalog = df['humalog_last_meal']\n",
    "timediff_last_mealcarbs = df['time_diff_minutes']\n",
    "timediff_last_glucose = df['time_diff_minutes']\n",
    "timediff_last_humalog_last_glucose = df['time_diff_minutes']\n",
    "\n",
    "import theano.tensor as T"
   ]
  },
  {
   "cell_type": "code",
   "execution_count": null,
   "metadata": {},
   "outputs": [],
   "source": [
    "# Assume that basal insulin is accurate dosage (this is a large assumption),\n",
    "# We can try and incorporate this later with another variable.\n",
    "with Model() as model: # model specifications in PyMC3 are wrapped in a with-statement\n",
    "    # Define priors\n",
    "    # Define priors\n",
    "    # sigma = HalfCauchy('sigma', beta=5, testval=1.)\n",
    "    \n",
    "    time_of_absorb_carbs = 120\n",
    "    #time_of_absorb_carbs = Uniform('time_of_absorb_carbs', lower=30, upper=120)\n",
    "    \n",
    "    #time_of_absorb_humalog = Uniform('time_of_absorb_humalog', lower=180, upper=240)\n",
    "    time_of_absorb_humalog = 180\n",
    "\n",
    "    CR = Uniform('CR',lower=1, upper=200)\n",
    "    CF = Uniform('CF', lower=1, upper=500)\n",
    "\n",
    "    percent_absorb_carbs = T.minimum(timediff_last_mealcarbs, time_of_absorb_carbs) / time_of_absorb_carbs\n",
    "    percent_absorb_humalog = T.minimum(timediff_last_humalog_last_glucose, time_of_absorb_humalog) / time_of_absorb_humalog\n",
    " \n",
    "    #basal_actual = Normal('basal_actual', mu=6, sd=2)\n",
    "\n",
    "    # Define likelihood #+ CF *.8* (basal_actual - basal_given) * 1/(24*60) * timediff_last_glucose\n",
    "    likelihood = Normal('glucose_diff', mu=CF/CR * mealcarbs * percent_absorb_carbs \\\n",
    "                        - CF * humalog * percent_absorb_humalog \\\n",
    "                        ,sd=50, observed=glucose_diff)\n",
    "    \n",
    "    # Inference!\n",
    "    trace = sample(6000, tune=2000, progressbar=True, start={'CF': 150, 'CR': 50}) # draw posterior samples using NUTS sampling\n",
    "    "
   ]
  },
  {
   "cell_type": "code",
   "execution_count": null,
   "metadata": {},
   "outputs": [],
   "source": []
  },
  {
   "cell_type": "code",
   "execution_count": null,
   "metadata": {},
   "outputs": [],
   "source": [
    "import matplotlib.pyplot as plt\n",
    "\n",
    "\n",
    "plt.figure(figsize=(7, 7))\n",
    "\n",
    "traceplot(trace[100:])\n",
    "plt.tight_layout();"
   ]
  },
  {
   "cell_type": "code",
   "execution_count": null,
   "metadata": {},
   "outputs": [],
   "source": []
  }
 ],
 "metadata": {
  "language_info": {
   "name": "python",
   "pygments_lexer": "ipython3"
  }
 },
 "nbformat": 4,
 "nbformat_minor": 2
}
